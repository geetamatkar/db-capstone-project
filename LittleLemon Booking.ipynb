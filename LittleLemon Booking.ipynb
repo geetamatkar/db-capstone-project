{
 "cells": [
  {
   "cell_type": "code",
   "execution_count": 1,
   "id": "fbc8a7b4",
   "metadata": {},
   "outputs": [
    {
     "name": "stdout",
     "output_type": "stream",
     "text": [
      "Requirement already satisfied: mysql-connector-python in ./anaconda3/lib/python3.10/site-packages (8.4.0)\r\n"
     ]
    }
   ],
   "source": [
    "!pip install mysql-connector-python"
   ]
  },
  {
   "cell_type": "code",
   "execution_count": 2,
   "id": "f024e624",
   "metadata": {},
   "outputs": [],
   "source": [
    "import mysql.connector as connector"
   ]
  },
  {
   "cell_type": "code",
   "execution_count": 3,
   "id": "4295ea1b",
   "metadata": {},
   "outputs": [],
   "source": [
    "connection = connector.connect(user = \"root\", password = \"root\")"
   ]
  },
  {
   "cell_type": "code",
   "execution_count": 4,
   "id": "effd09cb",
   "metadata": {},
   "outputs": [
    {
     "data": {
      "text/plain": [
       "<mysql.connector.connection.MySQLConnection at 0x7faff80e6ec0>"
      ]
     },
     "execution_count": 4,
     "metadata": {},
     "output_type": "execute_result"
    }
   ],
   "source": [
    "connector.connect(user = \"root\", password = \"root\", db = \"LittleLemonDB\") "
   ]
  },
  {
   "cell_type": "code",
   "execution_count": 6,
   "id": "eab07e06",
   "metadata": {},
   "outputs": [],
   "source": [
    "cursor = connection.cursor()"
   ]
  },
  {
   "cell_type": "code",
   "execution_count": 8,
   "id": "7943ad63",
   "metadata": {},
   "outputs": [
    {
     "data": {
      "text/plain": [
       "'littlelemondb'"
      ]
     },
     "execution_count": 8,
     "metadata": {},
     "output_type": "execute_result"
    }
   ],
   "source": [
    "cursor.execute(\"USE LittleLemonDB\")\n",
    "connection.database"
   ]
  },
  {
   "cell_type": "code",
   "execution_count": 9,
   "id": "e26984f6",
   "metadata": {},
   "outputs": [],
   "source": [
    "show_tables_query = \"SHOW tables\" \n",
    "cursor.execute(show_tables_query)"
   ]
  },
  {
   "cell_type": "code",
   "execution_count": 10,
   "id": "3028d5fe",
   "metadata": {},
   "outputs": [],
   "source": [
    "results=cursor.fetchall()"
   ]
  },
  {
   "cell_type": "code",
   "execution_count": 11,
   "id": "08d0ae35",
   "metadata": {},
   "outputs": [
    {
     "name": "stdout",
     "output_type": "stream",
     "text": [
      "('Tables_in_littlelemondb',)\n",
      "('Bookings',)\n",
      "('Customer',)\n",
      "('Delivery',)\n",
      "('Menu',)\n",
      "('MenuItems',)\n",
      "('Orders',)\n",
      "('ordersview',)\n",
      "('Staff',)\n"
     ]
    }
   ],
   "source": [
    "columns=cursor.column_names\n",
    "print(columns)\n",
    "\n",
    "for result in results:\n",
    "    print(result)"
   ]
  },
  {
   "cell_type": "code",
   "execution_count": 12,
   "id": "73424f76",
   "metadata": {},
   "outputs": [],
   "source": [
    "CustomerJoin = \"\"\" \n",
    "SELECT Customer.FullName,\n",
    "Customer.ContactNumber,\n",
    "Customer.Email,\n",
    "Orders.TotalCost\n",
    "FROM Customer\n",
    "LEFT JOIN Orders\n",
    "ON Customer.CustomerID = Orders.CustomerID\n",
    "WHERE Orders.TotalCost > 60;\n",
    "\"\"\""
   ]
  },
  {
   "cell_type": "code",
   "execution_count": 13,
   "id": "9f299c0b",
   "metadata": {},
   "outputs": [],
   "source": [
    "cursor.execute(CustomerJoin)\n",
    "results = cursor.fetchall()"
   ]
  },
  {
   "cell_type": "code",
   "execution_count": 14,
   "id": "68ad3780",
   "metadata": {},
   "outputs": [
    {
     "name": "stdout",
     "output_type": "stream",
     "text": [
      "('FullName', 'ContactNumber', 'Email', 'TotalCost')\n"
     ]
    }
   ],
   "source": [
    "columns=cursor.column_names\n",
    "print(columns)\n",
    "for result in results:\n",
    "    print(result)"
   ]
  },
  {
   "cell_type": "markdown",
   "id": "af5605ea",
   "metadata": {},
   "source": [
    "#There are no such customers"
   ]
  },
  {
   "cell_type": "code",
   "execution_count": 15,
   "id": "beb2513b",
   "metadata": {},
   "outputs": [],
   "source": [
    "cursor.close()\n",
    "    \n",
    "connection.close()\n",
    "    "
   ]
  },
  {
   "cell_type": "code",
   "execution_count": null,
   "id": "c003c479",
   "metadata": {},
   "outputs": [],
   "source": []
  }
 ],
 "metadata": {
  "kernelspec": {
   "display_name": "Python 3 (ipykernel)",
   "language": "python",
   "name": "python3"
  },
  "language_info": {
   "codemirror_mode": {
    "name": "ipython",
    "version": 3
   },
   "file_extension": ".py",
   "mimetype": "text/x-python",
   "name": "python",
   "nbconvert_exporter": "python",
   "pygments_lexer": "ipython3",
   "version": "3.10.9"
  }
 },
 "nbformat": 4,
 "nbformat_minor": 5
}
